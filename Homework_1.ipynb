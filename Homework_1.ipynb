{
  "cells": [
    {
      "cell_type": "markdown",
      "metadata": {
        "id": "DrJUq-PXF8HU"
      },
      "source": [
        "# **BÀI TẬP NHÓM PHÂN TÍCH DỮ LIỆU**\n",
        "**Thành** **viên**:\n",
        "1. Ngô Lan Thanh - 050608200640\n",
        "2. Nguyễn Minh Vy - 050608200782\n",
        "3. Nguyễn Thanh Vy - 050608200784\n",
        "\n",
        "\n",
        "\n",
        "\n",
        "\n",
        "\n"
      ]
    },
    {
      "cell_type": "markdown",
      "metadata": {
        "id": "9-fy_V4vhH24"
      },
      "source": [
        "# **Câu 1. Spark**"
      ]
    },
    {
      "cell_type": "code",
      "execution_count": 90,
      "metadata": {
        "id": "XyidF5CZpDLY"
      },
      "outputs": [],
      "source": [
        "%%capture\n",
        "!pip install pyspark\n",
        "!pip install -U -q PyDrive\n",
        "!apt install openjdk-8-jdk-headless -qq\n",
        "import os\n",
        "os.environ[\"JAVA_HOME\"] = \"/usr/lib/jvm/java-8-openjdk-amd64\""
      ]
    },
    {
      "cell_type": "code",
      "execution_count": null,
      "metadata": {
        "colab": {
          "base_uri": "https://localhost:8080/",
          "height": 17
        },
        "id": "_qVvc4pvvJ8s",
        "outputId": "f6c61412-a5a0-439c-b764-01d09fe5b41a"
      },
      "outputs": [
        {
          "data": {
            "application/javascript": [
              "google.colab.output.setIframeHeight(0, true, {maxHeight: 400})"
            ],
            "text/plain": [
              "<IPython.core.display.Javascript object>"
            ]
          },
          "metadata": {},
          "output_type": "display_data"
        },
        {
          "data": {
            "application/javascript": [
              "google.colab.output.setIframeHeight(0, true, {maxHeight: 400})"
            ],
            "text/plain": [
              "<IPython.core.display.Javascript object>"
            ]
          },
          "metadata": {},
          "output_type": "display_data"
        }
      ],
      "source": [
        "from pydrive.auth import GoogleAuth\n",
        "from pydrive.drive import GoogleDrive\n",
        "from google.colab import auth\n",
        "from oauth2client.client import GoogleCredentials\n",
        "\n",
        "# Authenticate and create the PyDrive client\n",
        "auth.authenticate_user()\n",
        "gauth = GoogleAuth()\n",
        "gauth.credentials = GoogleCredentials.get_application_default()\n",
        "drive = GoogleDrive(gauth)\n",
        "     "
      ]
    },
    {
      "cell_type": "code",
      "execution_count": null,
      "metadata": {
        "colab": {
          "base_uri": "https://localhost:8080/",
          "height": 54
        },
        "id": "E9RW6NBOvTm-",
        "outputId": "0b6cd516-4a2e-4f9f-9175-2b6e6edfa81e"
      },
      "outputs": [
        {
          "data": {
            "application/javascript": [
              "google.colab.output.setIframeHeight(0, true, {maxHeight: 400})"
            ],
            "text/plain": [
              "<IPython.core.display.Javascript object>"
            ]
          },
          "metadata": {},
          "output_type": "display_data"
        },
        {
          "data": {
            "application/javascript": [
              "google.colab.output.setIframeHeight(0, true, {maxHeight: 400})"
            ],
            "text/plain": [
              "<IPython.core.display.Javascript object>"
            ]
          },
          "metadata": {},
          "output_type": "display_data"
        },
        {
          "name": "stdout",
          "output_type": "stream",
          "text": [
            "Drive already mounted at /content/drive; to attempt to forcibly remount, call drive.mount(\"/content/drive\", force_remount=True).\n"
          ]
        }
      ],
      "source": [
        "from google.colab import drive\n",
        "drive.mount('/content/drive')\n",
        "# Avoids scroll-in-the-scroll in the entire Notebook\n",
        "from IPython.display import Javascript\n",
        "def resize_colab_cell():\n",
        "  display(Javascript('google.colab.output.setIframeHeight(0, true, {maxHeight: 400})'))\n",
        "get_ipython().events.register('pre_run_cell', resize_colab_cell)"
      ]
    },
    {
      "cell_type": "code",
      "execution_count": null,
      "metadata": {
        "colab": {
          "base_uri": "https://localhost:8080/",
          "height": 315
        },
        "id": "hlOQSA5Evr_c",
        "outputId": "6450c934-920a-4a42-fb87-88df9fd953f6"
      },
      "outputs": [
        {
          "data": {
            "application/javascript": [
              "google.colab.output.setIframeHeight(0, true, {maxHeight: 400})"
            ],
            "text/plain": [
              "<IPython.core.display.Javascript object>"
            ]
          },
          "metadata": {},
          "output_type": "display_data"
        },
        {
          "data": {
            "application/javascript": [
              "google.colab.output.setIframeHeight(0, true, {maxHeight: 400})"
            ],
            "text/plain": [
              "<IPython.core.display.Javascript object>"
            ]
          },
          "metadata": {},
          "output_type": "display_data"
        },
        {
          "data": {
            "application/javascript": [
              "google.colab.output.setIframeHeight(0, true, {maxHeight: 400})"
            ],
            "text/plain": [
              "<IPython.core.display.Javascript object>"
            ]
          },
          "metadata": {},
          "output_type": "display_data"
        },
        {
          "name": "stdout",
          "output_type": "stream",
          "text": [
            "--2023-03-27 19:20:05--  https://bin.equinox.io/c/4VmDzA7iaHb/ngrok-stable-linux-amd64.zip\n",
            "Resolving bin.equinox.io (bin.equinox.io)... 18.205.222.128, 54.161.241.46, 52.202.168.65, ...\n",
            "Connecting to bin.equinox.io (bin.equinox.io)|18.205.222.128|:443... connected.\n",
            "HTTP request sent, awaiting response... 200 OK\n",
            "Length: 13921656 (13M) [application/octet-stream]\n",
            "Saving to: ‘ngrok-stable-linux-amd64.zip’\n",
            "\n",
            "ngrok-stable-linux- 100%[===================>]  13.28M  42.8MB/s    in 0.3s    \n",
            "\n",
            "2023-03-27 19:20:06 (42.8 MB/s) - ‘ngrok-stable-linux-amd64.zip’ saved [13921656/13921656]\n",
            "\n",
            "Archive:  ngrok-stable-linux-amd64.zip\n",
            "  inflating: ngrok                   \n",
            "Traceback (most recent call last):\n",
            "  File \"<string>\", line 1, in <module>\n",
            "IndexError: list index out of range\n"
          ]
        }
      ],
      "source": [
        "!wget https://bin.equinox.io/c/4VmDzA7iaHb/ngrok-stable-linux-amd64.zip\n",
        "!unzip ngrok-stable-linux-amd64.zip\n",
        "get_ipython().system_raw('./ngrok http 4050 &')\n",
        "!curl -s http://localhost:4040/api/tunnels | python3 -c \\\n",
        "    \"import sys, json; print(json.load(sys.stdin)['tunnels'][0]['public_url'])\""
      ]
    },
    {
      "cell_type": "code",
      "execution_count": null,
      "metadata": {
        "colab": {
          "base_uri": "https://localhost:8080/",
          "height": 17
        },
        "id": "r7lP4s2-vxEm",
        "outputId": "4e6cc6a3-bf1b-46b0-a6c6-8a5db9338299"
      },
      "outputs": [
        {
          "data": {
            "application/javascript": [
              "google.colab.output.setIframeHeight(0, true, {maxHeight: 400})"
            ],
            "text/plain": [
              "<IPython.core.display.Javascript object>"
            ]
          },
          "metadata": {},
          "output_type": "display_data"
        },
        {
          "data": {
            "application/javascript": [
              "google.colab.output.setIframeHeight(0, true, {maxHeight: 400})"
            ],
            "text/plain": [
              "<IPython.core.display.Javascript object>"
            ]
          },
          "metadata": {},
          "output_type": "display_data"
        },
        {
          "data": {
            "application/javascript": [
              "google.colab.output.setIframeHeight(0, true, {maxHeight: 400})"
            ],
            "text/plain": [
              "<IPython.core.display.Javascript object>"
            ]
          },
          "metadata": {},
          "output_type": "display_data"
        }
      ],
      "source": [
        "def line_to_friend_ownership(line):\n",
        "    split = line.split()\n",
        "    user_id = int(split[0])\n",
        "    if len(split) == 1:\n",
        "        friends = []\n",
        "    else:\n",
        "        friends = list(map(lambda x: int(x), split[1].split(',')))\n",
        "    return user_id, friends\n",
        "\n",
        "def friend_ownership_to_connection(f_o):\n",
        "    user_id = f_o[0]\n",
        "    friends = f_o[1]\n",
        "    connections = []\n",
        "    for friend_id in friends:\n",
        "        key = (user_id, friend_id)\n",
        "        if user_id > friend_id:\n",
        "            key = (friend_id, user_id)\n",
        "        connections.append((key, 0))  # they are friends, value=0\n",
        "    for friend_pair in itertools.combinations(friends, 2):\n",
        "        friend_0 = friend_pair[0]\n",
        "        friend_1 = friend_pair[1]\n",
        "        key = (friend_0, friend_1)\n",
        "        if friend_0 > friend_1:\n",
        "            key = (friend_1, friend_0)\n",
        "        connections.append((key, 1))  # they have mutual friends, value=1\n",
        "    return connections\n",
        "\n",
        "def mutual_friend_count_to_recommendation(f):\n",
        "    pair = f[0]\n",
        "    friend0 = pair[0]\n",
        "    friend1 = pair[1]\n",
        "    noMutFriends = f[1]\n",
        "    rec0 = (friend0, (friend1, noMutFriends))\n",
        "    rec1 = (friend1, (friend0, noMutFriends))\n",
        "    return [rec0, rec1]\n",
        "\n",
        "def recommendation_to_sorted_truncated(recs):\n",
        "    recs.sort(key=lambda x: (-x[1], x[0]))\n",
        "    return list(map(lambda x: x[0], recs))[:10]\n",
        "     "
      ]
    },
    {
      "cell_type": "code",
      "execution_count": null,
      "metadata": {
        "colab": {
          "base_uri": "https://localhost:8080/",
          "height": 17
        },
        "id": "KiYMu2KkdWgQ",
        "outputId": "9312936d-9c6a-4b5c-931e-a0a880af8d08"
      },
      "outputs": [
        {
          "data": {
            "application/javascript": [
              "google.colab.output.setIframeHeight(0, true, {maxHeight: 400})"
            ],
            "text/plain": [
              "<IPython.core.display.Javascript object>"
            ]
          },
          "metadata": {},
          "output_type": "display_data"
        },
        {
          "data": {
            "application/javascript": [
              "google.colab.output.setIframeHeight(0, true, {maxHeight: 400})"
            ],
            "text/plain": [
              "<IPython.core.display.Javascript object>"
            ]
          },
          "metadata": {},
          "output_type": "display_data"
        },
        {
          "data": {
            "application/javascript": [
              "google.colab.output.setIframeHeight(0, true, {maxHeight: 400})"
            ],
            "text/plain": [
              "<IPython.core.display.Javascript object>"
            ]
          },
          "metadata": {},
          "output_type": "display_data"
        }
      ],
      "source": [
        "import pandas as pd\n",
        "import numpy as np\n",
        "import matplotlib.pyplot as plt\n",
        "import itertools\n",
        "%matplotlib inline\n",
        "import pyspark\n",
        "from pyspark.sql import *\n",
        "from pyspark.sql.functions import *\n",
        "from pyspark import SparkContext, SparkConf\n",
        "# create the session\n",
        "conf = SparkConf().set(\"spark.ui.port\", \"4050\")\n",
        "# create the context\n",
        "sc = pyspark.SparkContext(conf=conf)\n",
        "spark = SparkSession.builder.getOrCreate()"
      ]
    },
    {
      "cell_type": "code",
      "execution_count": null,
      "metadata": {
        "colab": {
          "base_uri": "https://localhost:8080/",
          "height": 17
        },
        "id": "jDgiiphnv5c4",
        "outputId": "4f4e06ef-5acf-4230-e3bc-00482a3316bd"
      },
      "outputs": [
        {
          "data": {
            "application/javascript": [
              "google.colab.output.setIframeHeight(0, true, {maxHeight: 400})"
            ],
            "text/plain": [
              "<IPython.core.display.Javascript object>"
            ]
          },
          "metadata": {},
          "output_type": "display_data"
        },
        {
          "data": {
            "application/javascript": [
              "google.colab.output.setIframeHeight(0, true, {maxHeight: 400})"
            ],
            "text/plain": [
              "<IPython.core.display.Javascript object>"
            ]
          },
          "metadata": {},
          "output_type": "display_data"
        },
        {
          "data": {
            "application/javascript": [
              "google.colab.output.setIframeHeight(0, true, {maxHeight: 400})"
            ],
            "text/plain": [
              "<IPython.core.display.Javascript object>"
            ]
          },
          "metadata": {},
          "output_type": "display_data"
        }
      ],
      "source": [
        "# Read from text file \n",
        "lines = sc.textFile(\"/content/drive/MyDrive/soc-LiveJournal1Adj.txt\")\n",
        "\n",
        "# Map each line to the form: (user_id, [friend_id_0, friend_id_1, ...])\n",
        "friend_ownership = lines.map(line_to_friend_ownership).filter(lambda friend: '' != friend[1])#.filter(lambda friend: 1000> friend[0]) #take 1000 samples for testing\n",
        "\n",
        "# Map friend ownerships to instances of ((user_id, friend_id), VALUE).\n",
        "# VALUE = 0 => pairs are already friends.\n",
        "# VALUE = 1 => pairs have mutual friends.\n",
        "friend_edges = friend_ownership.flatMap(friend_ownership_to_connection)\n",
        "friend_edges.cache()\n",
        "\n",
        "# Filter pairs that are already friends\n",
        "mutual_friend = friend_edges.groupByKey() \\\n",
        "    .filter(lambda edge: 0 not in edge[1]) \\\n",
        "    .flatMap(lambda x: [(x[0],item) for item in x[1]]) # flat it to count total mutual friends No; use map directly causes bugs\n",
        "\n",
        "# Count mutual friends by adding up values\n",
        "mutual_friend_counts = mutual_friend.reduceByKey( lambda x,y : x+y)\n",
        "\n",
        "# Create the recommendation objects, group them by key, then sort and \n",
        "recommendations = mutual_friend_counts.flatMap(mutual_friend_count_to_recommendation).groupByKey() \n",
        "\n",
        "# Truncate the recommendations to the 10 most highly recommended.\n",
        "recommendations10 = recommendations.map(lambda m: (m[0], recommendation_to_sorted_truncated(list(m[1])))).sortByKey() \n",
        "\n",
        "# Include in your writeup the recommendations for the users with following user IDs: 924, 8941, 8942, 9019, 9020, 9021, 9022, 9990, 9992, 9993.\n",
        "results = recommendations10.filter(lambda recommendations: recommendations[0] in [924, 8941, 8942, 9019, 9020, 9021, 9022, 9990, 9992, 9993])\n"
      ]
    },
    {
      "cell_type": "code",
      "execution_count": null,
      "metadata": {
        "colab": {
          "base_uri": "https://localhost:8080/",
          "height": 191
        },
        "id": "eg9-0Yi1sveh",
        "outputId": "4bac04e4-1644-4977-e532-e9574a4acd80"
      },
      "outputs": [
        {
          "data": {
            "application/javascript": [
              "google.colab.output.setIframeHeight(0, true, {maxHeight: 400})"
            ],
            "text/plain": [
              "<IPython.core.display.Javascript object>"
            ]
          },
          "metadata": {},
          "output_type": "display_data"
        },
        {
          "data": {
            "application/javascript": [
              "google.colab.output.setIframeHeight(0, true, {maxHeight: 400})"
            ],
            "text/plain": [
              "<IPython.core.display.Javascript object>"
            ]
          },
          "metadata": {},
          "output_type": "display_data"
        },
        {
          "data": {
            "application/javascript": [
              "google.colab.output.setIframeHeight(0, true, {maxHeight: 400})"
            ],
            "text/plain": [
              "<IPython.core.display.Javascript object>"
            ]
          },
          "metadata": {},
          "output_type": "display_data"
        },
        {
          "data": {
            "text/plain": [
              "[(924, [439, 2409, 6995, 11860, 15416, 43748, 45881]),\n",
              " (8941, [8943, 8944, 8940]),\n",
              " (8942, [8939, 8940, 8943, 8944]),\n",
              " (9019, [9022, 317, 9023]),\n",
              " (9020, [9021, 9016, 9017, 9022, 317, 9023]),\n",
              " (9021, [9020, 9016, 9017, 9022, 317, 9023]),\n",
              " (9022, [9019, 9020, 9021, 317, 9016, 9017, 9023]),\n",
              " (9990, [13134, 13478, 13877, 34299, 34485, 34642, 37941]),\n",
              " (9992, [9987, 9989, 35667, 9991]),\n",
              " (9993, [9991, 13134, 13478, 13877, 34299, 34485, 34642, 37941])]"
            ]
          },
          "execution_count": 39,
          "metadata": {},
          "output_type": "execute_result"
        }
      ],
      "source": [
        "    results.collect()"
      ]
    },
    {
      "cell_type": "markdown",
      "metadata": {
        "id": "xCsEttXRk-JT"
      },
      "source": [
        "#**Câu 2. Association Rules - Luật kết hợp**"
      ]
    },
    {
      "cell_type": "markdown",
      "metadata": {
        "id": "_odgIX_UkhaQ"
      },
      "source": [
        "#**(a)** \n",
        "\n",
        "Vì bỏ qua Pr(B). Trong một số trường hợp, nó có thể dẫn đến các quy tắc không chính xác. Ví dụ: sự xuất hiện của B có thể không liên quan đến A (ví dụ: A và B độc lập, sao cho conf(A→B) = Pr(B|A) = Pr(B)) nhưng B có độ hỗ trợ cao, do đó A→ B được xác định là một quy tắc hợp lệ. Bằng cách quan sát các công thức, chúng ta có thể thấy rằng lượt chuyển đổi và mức tăng có tính đến Pr(B).\n",
        "\n",
        "\n",
        "# **(b)** \n",
        "\n",
        "Trong các chỉ tiêu được giới thiệu ở đây, chỉ số tăng trưởng (lift) là không đối xứng.\n",
        "\n",
        "lift(A→B) = lift(B→A) = Pr(A,B)/Pr(A).Pr(B)\n",
        "\n",
        "conf(A→B) = Pr(B|A)and conf(B→A) = Pr(A|B).Pr(A|B)and Pr(B|A)có thể khác nhau.\n",
        "Conv dựa trên conf và có tính định hướng.\n",
        "\n",
        "Ví dụ: Nếu chúng ta chọn lọc thành các nhóm AB, AC, AD thì S(A) = 3/3, S(B) = 1/3 và Pr(A, B) = 1/3. Khi đó conf(A→B) =Pr(B|A)6= Pr(A|B)= conf(B→A) kể từ: (1/3)/(3/3) khác (1/3)/(1/3).\n",
        "Tương tự, conv(A→B)= (1−S(B))/(1−conf(A→B)) khác (1−S(A))/(1−conf(B→A)) khác conv(B→A) vì: (1−1/3)/(1−1/2) khác 4/3 khác (1− 2/3)/(1−1) = inf. \n",
        "\n",
        "Cụ thể hơn thì: \n",
        "For Lift(A → B), ta có: \n",
        "\n",
        "Lift(A → B) = Conf(A → B) / S(B)\n",
        "\n",
        "                     = Pr( A ⋂ B) / (Pr(A) * Pr(B))\n",
        "                     = Pr ( B ⋂ A) / (Pr(B) * Pr(A))\n",
        "                     = Lift(B → A)\n",
        "For Conviction(A → B), ta có:\n",
        "\n",
        "Conviction(A → B) = (1 - S(B)) / (1- Conf(A → B))\n",
        "\n",
        "                                 = (1 - Pr(B)) / (1 Pr(A ⋂ B) / (Pr(A)))\n",
        "                                 = Pr(not B) / (Pr (A ⋂ not B) / (Pr(A)))\n",
        "\n",
        "# **(c)** \n",
        "\n",
        "Chỉ tiêu tăng trưởng (lift) và chỉ số thuyết phục (conviction) đều có tính chất này vì cả hai chỉ tiêu đạt giá trị tối đa của chúng cho tất cả các liên hệ hoàn hảo (perfect implications). Nếu B xảy ra mỗi khi A xảy ra (nghĩa là Pr(B|A) = 1) thì: \n",
        "\n",
        "> conf(A→B) = 1\n",
        "\n",
        "> conv(A→B) → vô cùng\n",
        "\n",
        "> lift(A→B) phụ thuộc vào giá trị của Pr(B) và có thể khác nhau vì B có thể xảy ra trong các phần tử chọn lọc không có A. \n",
        "\n",
        "Ví dụ: Nếu chúng ta có các phần tử chọn lọc AB, AB, CD, EF thì Pr(B|A) = 1,S(B) = 1/2, Pr(D|C) = 1, và S(D) = 1/4 .Sau đó, lift(A→B) = 1/(1/2) = 2 và lift(C→D) = 1/(1/4) = 4. Mặc dù cả hai quy tắc đều là quy tắc 100% nhưng chúng có điểm số mức tăng khác nhau.\n",
        "\n",
        "\n"
      ]
    },
    {
      "cell_type": "markdown",
      "source": [
        "#**(d)**"
      ],
      "metadata": {
        "id": "a51rRt57y0tz"
      }
    },
    {
      "cell_type": "code",
      "source": [
        "# Importing libraries\n",
        "from collections import defaultdict\n",
        "from itertools import combinations\n",
        "from operator import itemgetter"
      ],
      "metadata": {
        "id": "d0daSekZy4c9"
      },
      "execution_count": null,
      "outputs": []
    },
    {
      "cell_type": "code",
      "source": [
        "# Load dataset and remove duplicates\n",
        "data = []\n",
        "with open('/content/browsing.txt', 'r') as f:\n",
        "    for line in f:\n",
        "        items = set(line.strip().split())\n",
        "        data.append(list(items))"
      ],
      "metadata": {
        "id": "yPpJaaaCzCgu"
      },
      "execution_count": null,
      "outputs": []
    },
    {
      "cell_type": "code",
      "source": [
        "# First pass to find frequent items\n",
        "min_support = 100 # define minimum support\n",
        "item_counts = defaultdict(int)\n",
        "for basket in data:\n",
        "    for item in basket:\n",
        "        item_counts[item] += 1\n",
        "frequent_items = set(item for item, count in item_counts.items() if count >= min_support)"
      ],
      "metadata": {
        "id": "y2JXnXASzjc7"
      },
      "execution_count": null,
      "outputs": []
    },
    {
      "cell_type": "code",
      "source": [
        "# Second pass to find frequent itemsets of size 2\n",
        "itemset_counts = defaultdict(int)\n",
        "for basket in data:\n",
        "    for itemset in combinations(basket, 2):\n",
        "        if set(itemset).issubset(frequent_items):\n",
        "            itemset_counts[itemset] += 1\n",
        "frequent_itemsets = set(itemset for itemset, count in itemset_counts.items() if count >= min_support)"
      ],
      "metadata": {
        "id": "0UpsPJgIzmlW"
      },
      "execution_count": null,
      "outputs": []
    },
    {
      "cell_type": "code",
      "source": [
        "# Generate association rules for pairs of items\n",
        "rules = []\n",
        "for itemset in frequent_itemsets:\n",
        "    for item in itemset:\n",
        "        antecedent = frozenset([item])\n",
        "        consequent = frozenset(frozenset(itemset) - antecedent)\n",
        "        confidence = itemset_counts[itemset] / item_counts[item]\n",
        "        rules.append((antecedent, consequent, confidence))"
      ],
      "metadata": {
        "id": "WOp7__FvzpqA"
      },
      "execution_count": null,
      "outputs": []
    },
    {
      "cell_type": "code",
      "source": [
        "# Sort rules by confidence and print top 5\n",
        "top_rules = sorted(rules, key=lambda x: (-x[2], tuple(x[0])))\n",
        "for antecedent, consequent, confidence in top_rules[:5]:\n",
        "    print(f\"{tuple(antecedent)} -> {tuple(consequent)} : {confidence}\")\n"
      ],
      "metadata": {
        "colab": {
          "base_uri": "https://localhost:8080/"
        },
        "id": "Bxykq-EGzr1t",
        "outputId": "c93b4f84-e8dc-42da-b5e9-18955a74efd0"
      },
      "execution_count": null,
      "outputs": [
        {
          "output_type": "stream",
          "name": "stdout",
          "text": [
            "('GRO85051',) -> ('FRO40251',) : 0.9942339373970346\n",
            "('GRO38636',) -> ('FRO40251',) : 0.9813084112149533\n",
            "('ELE12951',) -> ('FRO40251',) : 0.9811320754716981\n",
            "('DAI43868',) -> ('SNA82528',) : 0.972972972972973\n",
            "('DAI23334',) -> ('DAI62779',) : 0.9545454545454546\n"
          ]
        }
      ]
    },
    {
      "cell_type": "markdown",
      "source": [
        "# **(e)**"
      ],
      "metadata": {
        "id": "XmGiCxBjyWFC"
      }
    },
    {
      "cell_type": "code",
      "source": [
        "!pip install pyspark"
      ],
      "metadata": {
        "colab": {
          "base_uri": "https://localhost:8080/"
        },
        "id": "2DWZeoRV0MMz",
        "outputId": "f72fd10c-2f1f-482e-d8e1-bfb53b0d3a84"
      },
      "execution_count": null,
      "outputs": [
        {
          "output_type": "stream",
          "name": "stdout",
          "text": [
            "Looking in indexes: https://pypi.org/simple, https://us-python.pkg.dev/colab-wheels/public/simple/\n",
            "Collecting pyspark\n",
            "  Downloading pyspark-3.3.2.tar.gz (281.4 MB)\n",
            "\u001b[2K     \u001b[90m━━━━━━━━━━━━━━━━━━━━━━━━━━━━━━━━━━━━━━━\u001b[0m \u001b[32m281.4/281.4 MB\u001b[0m \u001b[31m5.4 MB/s\u001b[0m eta \u001b[36m0:00:00\u001b[0m\n",
            "\u001b[?25h  Preparing metadata (setup.py) ... \u001b[?25l\u001b[?25hdone\n",
            "Collecting py4j==0.10.9.5\n",
            "  Downloading py4j-0.10.9.5-py2.py3-none-any.whl (199 kB)\n",
            "\u001b[2K     \u001b[90m━━━━━━━━━━━━━━━━━━━━━━━━━━━━━━━━━━━━━━\u001b[0m \u001b[32m199.7/199.7 KB\u001b[0m \u001b[31m23.8 MB/s\u001b[0m eta \u001b[36m0:00:00\u001b[0m\n",
            "\u001b[?25hBuilding wheels for collected packages: pyspark\n",
            "  Building wheel for pyspark (setup.py) ... \u001b[?25l\u001b[?25hdone\n",
            "  Created wheel for pyspark: filename=pyspark-3.3.2-py2.py3-none-any.whl size=281824028 sha256=33943611d28c90626cdfec2b287da32c2f27c147e8b7ae3c9c93934ac91897e7\n",
            "  Stored in directory: /root/.cache/pip/wheels/6c/e3/9b/0525ce8a69478916513509d43693511463c6468db0de237c86\n",
            "Successfully built pyspark\n",
            "Installing collected packages: py4j, pyspark\n",
            "  Attempting uninstall: py4j\n",
            "    Found existing installation: py4j 0.10.9.7\n",
            "    Uninstalling py4j-0.10.9.7:\n",
            "      Successfully uninstalled py4j-0.10.9.7\n",
            "Successfully installed py4j-0.10.9.5 pyspark-3.3.2\n"
          ]
        }
      ]
    },
    {
      "cell_type": "code",
      "source": [
        "import itertools\n",
        "import pyspark"
      ],
      "metadata": {
        "id": "Us9rieY7iG_5"
      },
      "execution_count": null,
      "outputs": []
    },
    {
      "cell_type": "code",
      "source": [
        "sc=pyspark.SparkContext(\"local\",\"Apriori\")\n",
        "# Load data from a text file\n",
        "text_input = sc.textFile('/content/browsing.txt')"
      ],
      "metadata": {
        "id": "41oT1hE7heUw"
      },
      "execution_count": null,
      "outputs": []
    },
    {
      "cell_type": "code",
      "source": [
        "# The total number of baskets in the dataset\n",
        "from operator import add\n",
        "no_of_baskets = text_input.map(lambda line: line.split()).count()\n",
        "no_of_baskets"
      ],
      "metadata": {
        "colab": {
          "base_uri": "https://localhost:8080/"
        },
        "id": "7BRaBbTZheuX",
        "outputId": "4661e294-8bae-4c6a-f3e0-eb9086380155"
      },
      "execution_count": null,
      "outputs": [
        {
          "output_type": "execute_result",
          "data": {
            "text/plain": [
              "31101"
            ]
          },
          "metadata": {},
          "execution_count": 16
        }
      ]
    },
    {
      "cell_type": "code",
      "source": [
        "txt_RDD = text_input.map(lambda line:line.split())\n"
      ],
      "metadata": {
        "id": "biTq57hF7Yaq"
      },
      "execution_count": null,
      "outputs": []
    },
    {
      "cell_type": "code",
      "source": [
        "# Check the output of the previous transformations\n",
        "individual_counts = text_input.flatMap(lambda line: line.split()).map(lambda x: (x,1)).reduceByKey(add)\n",
        "individual_counts.take(5)\n",
        "# Sort items in RDD\n",
        "freq_items_counts = individual_counts.filter(lambda x: x[1]>=100).sortBy(lambda x: x[0])\n",
        "freq_items_counts.take(5)\n",
        "freq_items_counts_list = individual_counts.filter(lambda x: x[1]>=100).sortBy(lambda x: x[0]).collect()\n",
        "#Retrieve the first 5 items in the RDD\n",
        "freq_items = freq_items_counts.map(lambda x: x[0])\n",
        "freq_items.take(5)"
      ],
      "metadata": {
        "colab": {
          "base_uri": "https://localhost:8080/"
        },
        "id": "5IzzcmngiT1I",
        "outputId": "c90a8f8e-ff39-4989-9319-845b7376608a"
      },
      "execution_count": null,
      "outputs": [
        {
          "output_type": "execute_result",
          "data": {
            "text/plain": [
              "['DAI11223', 'DAI11778', 'DAI13194', 'DAI13266', 'DAI13788']"
            ]
          },
          "metadata": {},
          "execution_count": 18
        }
      ]
    },
    {
      "cell_type": "code",
      "source": [
        "freq_items_list = freq_items_counts.map(lambda x: x[0]).collect()\n",
        "freq_items_list[:5]"
      ],
      "metadata": {
        "colab": {
          "base_uri": "https://localhost:8080/"
        },
        "id": "EXobiu4XacK3",
        "outputId": "3979e29f-10b9-446c-d6a8-55fbcd03886c"
      },
      "execution_count": null,
      "outputs": [
        {
          "output_type": "execute_result",
          "data": {
            "text/plain": [
              "['DAI11223', 'DAI11778', 'DAI13194', 'DAI13266', 'DAI13788']"
            ]
          },
          "metadata": {},
          "execution_count": 19
        }
      ]
    },
    {
      "cell_type": "code",
      "source": [
        "# A variable that stores the total number of frequent items in the dataset.\n",
        "no_of_freq_items=freq_items.count()\n",
        "no_of_freq_items"
      ],
      "metadata": {
        "colab": {
          "base_uri": "https://localhost:8080/"
        },
        "id": "Qc8k5rULh7Yn",
        "outputId": "0df2052c-1841-48ce-c678-1eeda4af042c"
      },
      "execution_count": null,
      "outputs": [
        {
          "output_type": "execute_result",
          "data": {
            "text/plain": [
              "647"
            ]
          },
          "metadata": {},
          "execution_count": 20
        }
      ]
    },
    {
      "cell_type": "code",
      "source": [
        "# List containing both tuples, which represent the confidence scores of the two association rules for the item pair (X, Y) - 1st\n",
        "def filter_and_pair(lst):\n",
        "    ret=[]\n",
        "    pairs=[]\n",
        "    for i in lst:\n",
        "        if i in freq_items_list:\n",
        "            ret.append(i)\n",
        "    ret.sort()\n",
        "    for pair in itertools.combinations(ret,2):\n",
        "        pairs.append((pair,1))\n",
        "    return(pairs)\n",
        "def confidence(elem):\n",
        "    lst=[]\n",
        "    conf1 = elem[1]/(freq_pair_counts.filter(lambda x: x[0]==elem[0][0]).collect())[0][1]\n",
        "    conf2 = elem[1]/(freq_items_counts.filter(lambda x: x[0]==elem[0][1]).collect())[0][1]\n",
        "    lst.append(((elem[0],elem[1]),conf1))\n",
        "    lst.append(((elem[1],elem[0]),conf2))\n",
        "    return(lst)"
      ],
      "metadata": {
        "id": "Ilvd9Plet2FE"
      },
      "execution_count": null,
      "outputs": []
    },
    {
      "cell_type": "code",
      "source": [
        "# List containing both tuples, which represent the confidence scores of the two association rules for the item pair (X, Y) - 2nd\n",
        "def filter_2(lst):\n",
        "    ret=[]\n",
        "    trips=[]\n",
        "    for i in lst:\n",
        "        if i in freq_items_2:\n",
        "            ret.append(i)\n",
        "    ret.sort()\n",
        "    for trip in itertools.combinations(ret,3):\n",
        "        trips.append(((trip),1))\n",
        "    return(trips)\n",
        "def confidence2(elem):\n",
        "    lii=[]\n",
        "    for i in (itertools.combinations(elem[0],2)):\n",
        "        conf=elem[1]/(freq_pair_counts.filter(lambda X: x[0]==i)).collect[0][1]\n",
        "        lii.append((i,conf))\n",
        "    ret(lii)"
      ],
      "metadata": {
        "id": "Ygq2fUw7t2X1"
      },
      "execution_count": null,
      "outputs": []
    },
    {
      "cell_type": "code",
      "source": [
        "pair_counts = txt_RDD.flatMap(lambda x: filter_and_pair(x)).reduceByKey(add).sortBy( lambda x: x[0])\n",
        "pair_counts.take(5)"
      ],
      "metadata": {
        "id": "htqWEuQp-Fv5",
        "outputId": "f13a29ed-ba09-42a4-8238-1bf1caaaacd9",
        "colab": {
          "base_uri": "https://localhost:8080/"
        }
      },
      "execution_count": null,
      "outputs": [
        {
          "output_type": "execute_result",
          "data": {
            "text/plain": [
              "[(('DAI11223', 'DAI13194'), 1),\n",
              " (('DAI11223', 'DAI13266'), 1),\n",
              " (('DAI11223', 'DAI13902'), 2),\n",
              " (('DAI11223', 'DAI20585'), 1),\n",
              " (('DAI11223', 'DAI22177'), 17)]"
            ]
          },
          "metadata": {},
          "execution_count": 23
        }
      ]
    },
    {
      "cell_type": "code",
      "source": [
        "freq_pair_counts = pair_counts.filter(lambda x: x[1]>=100)\n",
        "freq_pair_counts.take(5)\n",
        "freq_pair_counts_list = freq_pair_counts.collect()\n",
        "freq_pair_counts_list[:5]"
      ],
      "metadata": {
        "id": "XACYEZkd-IO9",
        "colab": {
          "base_uri": "https://localhost:8080/"
        },
        "outputId": "56a9795a-db42-4008-efe3-2f6b3a392f23"
      },
      "execution_count": null,
      "outputs": [
        {
          "output_type": "execute_result",
          "data": {
            "text/plain": [
              "[(('DAI16732', 'FRO78087'), 106),\n",
              " (('DAI18527', 'SNA44451'), 102),\n",
              " (('DAI22177', 'DAI31081'), 127),\n",
              " (('DAI22177', 'DAI62779'), 382),\n",
              " (('DAI22177', 'DAI63921'), 136)]"
            ]
          },
          "metadata": {},
          "execution_count": 24
        }
      ]
    },
    {
      "cell_type": "code",
      "source": [
        "freq_pairs = freq_pair_counts.map(lambda x: x[0])\n",
        "freq_pairs.take(5)"
      ],
      "metadata": {
        "colab": {
          "base_uri": "https://localhost:8080/"
        },
        "id": "8zONWD7DdR-I",
        "outputId": "8f8673e1-7f40-492f-c5d9-d8c40e75085e"
      },
      "execution_count": null,
      "outputs": [
        {
          "output_type": "execute_result",
          "data": {
            "text/plain": [
              "[('DAI16732', 'FRO78087'),\n",
              " ('DAI18527', 'SNA44451'),\n",
              " ('DAI22177', 'DAI31081'),\n",
              " ('DAI22177', 'DAI62779'),\n",
              " ('DAI22177', 'DAI63921')]"
            ]
          },
          "metadata": {},
          "execution_count": 25
        }
      ]
    },
    {
      "cell_type": "code",
      "source": [
        "conf_lst=[]\n",
        "for i in freq_pair_counts_list:\n",
        "    conf1 = i[1]/(freq_items_counts.filter(lambda x: x[0]==i[0][0]).collect())[0][1]\n",
        "    conf2 = i[1]/(freq_items_counts.filter(lambda x: x[0]==i[0][1]).collect())[0][1]\n",
        "    conf_lst.append(((i[0][0],i[0][1]),conf1))\n",
        "    conf_lst.append(((i[0][1],i[0][0]),conf2))"
      ],
      "metadata": {
        "id": "FEQ7cMfrdldI"
      },
      "execution_count": null,
      "outputs": []
    },
    {
      "cell_type": "code",
      "source": [
        "conf_lst.sort(key=lambda x: -x[1])\n"
      ],
      "metadata": {
        "id": "sB-7jYjVeEkc"
      },
      "execution_count": null,
      "outputs": []
    },
    {
      "cell_type": "code",
      "source": [
        "freq_items_2 = freq_pairs.flatMap(lambda x: x).collect()\n",
        "freq_items_2[:5]"
      ],
      "metadata": {
        "colab": {
          "base_uri": "https://localhost:8080/"
        },
        "id": "zw9S1nLjes0H",
        "outputId": "5ba950ac-b651-4d76-f7ba-696986900443"
      },
      "execution_count": null,
      "outputs": [
        {
          "output_type": "execute_result",
          "data": {
            "text/plain": [
              "['DAI16732', 'FRO78087', 'DAI18527', 'SNA44451', 'DAI22177']"
            ]
          },
          "metadata": {},
          "execution_count": 40
        }
      ]
    },
    {
      "cell_type": "code",
      "source": [
        "trips_counts = txt_RDD.flatMap(lambda x: filter_2(x)).reduceByKey(add).sortBy(lambda x: x[0])\n",
        "trips_counts.take(5)"
      ],
      "metadata": {
        "colab": {
          "base_uri": "https://localhost:8080/"
        },
        "id": "MV8krrPXiKp-",
        "outputId": "bcee56ca-49f5-4a9b-a1bd-94e541ba7ad0"
      },
      "execution_count": null,
      "outputs": [
        {
          "output_type": "execute_result",
          "data": {
            "text/plain": [
              "[(('DAI16732', 'DAI18527', 'DAI35347'), 2),\n",
              " (('DAI16732', 'DAI18527', 'DAI59508'), 2),\n",
              " (('DAI16732', 'DAI18527', 'DAI62779'), 1),\n",
              " (('DAI16732', 'DAI18527', 'DAI63921'), 2),\n",
              " (('DAI16732', 'DAI18527', 'DAI85309'), 1)]"
            ]
          },
          "metadata": {},
          "execution_count": 41
        }
      ]
    },
    {
      "cell_type": "code",
      "source": [
        "freq_trips = trips_counts.filter(lambda x: x[1]>=100)\n",
        "freq_trips.take(5)"
      ],
      "metadata": {
        "colab": {
          "base_uri": "https://localhost:8080/"
        },
        "id": "jyzk_FnYiNP3",
        "outputId": "92fc8b00-a34c-4b82-83a9-8289d5750dd6"
      },
      "execution_count": null,
      "outputs": [
        {
          "output_type": "execute_result",
          "data": {
            "text/plain": [
              "[(('DAI22896', 'DAI62779', 'GRO73461'), 101),\n",
              " (('DAI23334', 'DAI62779', 'ELE92920'), 143),\n",
              " (('DAI31081', 'DAI62779', 'ELE17451'), 103),\n",
              " (('DAI31081', 'DAI75645', 'FRO40251'), 122),\n",
              " (('DAI31081', 'ELE32164', 'GRO59710'), 112)]"
            ]
          },
          "metadata": {},
          "execution_count": 42
        }
      ]
    },
    {
      "cell_type": "code",
      "source": [
        "freq_trips_list = trips_counts.filter(lambda x: x[1]>=100).collect()\n",
        "conf_trips=[]\n",
        "for i in freq_trips_list:\n",
        "    a=set(i[0])\n",
        "    for j in (itertools.combinations(i[0],2)):\n",
        "        b=set(j)\n",
        "        c=list(a-b)\n",
        "        conf=i[1]/(freq_pair_counts.filter(lambda x: x[0]==j)).collect()[0][1]\n",
        "        conf_trips.append(((j,c[0]),conf))"
      ],
      "metadata": {
        "id": "0CA_JPL3fEl0"
      },
      "execution_count": null,
      "outputs": []
    },
    {
      "cell_type": "code",
      "source": [
        "conf_trips.sort(key = lambda x: -x[1])\n",
        "conf_trips[:5]"
      ],
      "metadata": {
        "colab": {
          "base_uri": "https://localhost:8080/"
        },
        "id": "_pq-jSGxf2Uw",
        "outputId": "1e6cfb05-3ff0-470d-e287-e0b90a7d4ca5"
      },
      "execution_count": null,
      "outputs": [
        {
          "output_type": "execute_result",
          "data": {
            "text/plain": [
              "[((('DAI23334', 'ELE92920'), 'DAI62779'), 1.0),\n",
              " ((('DAI31081', 'GRO85051'), 'FRO40251'), 1.0),\n",
              " ((('DAI55911', 'GRO85051'), 'FRO40251'), 1.0),\n",
              " ((('DAI62779', 'DAI88079'), 'FRO40251'), 1.0),\n",
              " ((('DAI75645', 'GRO85051'), 'FRO40251'), 1.0)]"
            ]
          },
          "metadata": {},
          "execution_count": 45
        }
      ]
    },
    {
      "cell_type": "markdown",
      "source": [
        "# **Câu 3: Locality-Sensitive Hashing - Tìm các văn bản tương đồng dựa vào chuỗi số định danh**\n",
        "\n",
        "\n",
        "#**(a)** \n",
        "Số cột có m số 1 trong tổng số n cột là (n/m) . Số cột không có số 1 nào trong k hàng được chọn là (n-k/m). Xác suất không có số 1 trong k hàng đã chọn là tỷ lệ giữa hai số trên. \n",
        "\n",
        "Nếu ta mở rộng hệ số nhị thức thành giai thừa, ta sẽ được ((n-k)!m!(n-m)!)/(m!(n-k-m)!n!). \n",
        "\n",
        "Các giai thừa của m! bị rút gọn và khi ta tái tổ chức, ta có thể viết biểu thức này thành (n-k/n).((n-k-1)/(n-1))...((n-k-m+1)/(n-m+1)). Mỗi yếu tố trong m có nhiều nhất (n-k)/n. \n",
        "\n",
        "> Do đó, tích của chúng không vượt quá ((n-k)/n)^m\n",
        "\n",
        "#**(b)** \n",
        "\n",
        "Chúng ta muốn ((n-k)/n)^m =< e^(-10). Tương đương với (1 - (k/n) ^ (n/k) < e^(-10). Nếu nhân và chia mũ số mũ cho n/k, ta sẽ thấy điều kiện này tương đương với ((1-(k/n)^(n/k))^(mk/n) =< e^(-10). \n",
        "\n",
        "Vì chúng ta giả định k << n, chúng ta có thể xấp xỉ bằng (1-(k/n)^(n/k) by 1/e. \n",
        "\n",
        "> Điều đó làm cho điều kiện mong muốn trở thành e^(-mk/n) =< e^(-10). \n",
        "\n",
        "> Do đó, số mũ đầu tiên phải nhỏ hơn hoặc bằng số mũ thứ hai; tức là -mk/n =< -10, hoặc (mk/n) >= 10. Điều đó lại có nghĩa là k >= 10n/m, vì vậy câu trả lời chính xác, giới hạn dưới của k, là 10n/m.\n",
        "\n",
        "#**(c)** \n",
        "\n",
        "Độ tương đồng Jaccard và kỹ thuật minhash trong bối cảnh hai tập hợp được đại diện bởi hai cột [0, 1, 0]T và [0, 1, 1]T. Độ tương đồng Jaccard giữa hai tập hợp này được tính là 0,5.\n",
        "\n",
        "Tuy nhiên, khi sử dụng minhashing với các hoán vị tuần hoàn, giá trị minhash sẽ khác nhau tùy thuộc vào hàng nào bắt đầu chu trình. Nếu chu trình bắt đầu từ bất kỳ trong hai hàng đầu tiên, giá trị minhash sẽ giống nhau. Nhưng nếu chu trình bắt đầu từ hàng cuối cùng, giá trị minhash sẽ khác nhau.\n",
        "\n",
        "Do đó, xác suất các giá trị minhash giống nhau là 2/3 khi chỉ cho phép các hoán vị tuần hoàn. Điều này có nghĩa là nếu các giá trị minhash được sử dụng để so sánh các tập hợp, xác suất nhận được kết quả dương tính sai là 1/3, tức là khá cao. Do đó, khi sử dụng minhashing với các hoán vị tuần hoàn, quan trọng là phải cân nhắc xác suất này và áp dụng các biện pháp thích hợp để giảm thiểu các kết quả dương tính sai, chẳng hạn như tăng số lượng hàm băm hoặc sử dụng các kỹ thuật khác như locality-sensitive hashing.\n",
        "\n",
        "> Đặt A= {1,2,3}, B= {4,5,6},C = {3,4,5,6}. Có sim(A,B) = 0, sim(B,C)= 3/3.5, sim(A,C)=1/3.5\n",
        "\n",
        "#Vì vậy\n",
        "\n",
        "> **D(A,B)= 1-0=1, D(B,C)= 1- 0.857=0.14, D(A,C)=1-0.286=0.71**\n",
        "\n",
        "> **D(A,B)= 1>0.85=D(B,C)+D(A,C)**\n"
      ],
      "metadata": {
        "id": "QvWp7DHxq4IF"
      }
    },
    {
      "cell_type": "markdown",
      "source": [
        "# **Question 4. LSH for Approximate Near Neighbor Search**\n"
      ],
      "metadata": {
        "id": "IofqoM4m4ac3"
      }
    },
    {
      "cell_type": "markdown",
      "source": [
        "#**(a)**\n",
        "![image.png](data:image/png;base64,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)"
      ],
      "metadata": {
        "id": "pevjUZxCtXtK"
      }
    },
    {
      "cell_type": "markdown",
      "source": [
        "#**(b)**\n",
        "\n",
        "![image.png](data:image/png;base64,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)"
      ],
      "metadata": {
        "id": "0orBWG5-yaI8"
      }
    },
    {
      "cell_type": "markdown",
      "source": [
        "#**(c)**\n",
        "\n",
        "Hãy ký hiệu bởi U tập hợp các điểm ANN, nghĩa là U={x∈ A;d(x, z)6cλ}. Lưu ý rằng x∗∈U. Có hai cách để một điểm được báo cáo không phải là (c, λ)-ANN:\n",
        "\n",
        "- Không có điểm ANN nào được băm vào các thùng giống như z, tức là ∀1≤j≤L, Wj∩U=∅. Hãy ký hiệu bởi E sự kiện \"không có điểm ANN nào được băm vào các thùng giống như z\". Vì x∗∈U, chúng ta có, sử dụng câu hỏi (b): \n",
        "\n",
        "![image.png](data:image/png;base64,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)\n",
        "\n",
        "- Hoặc có ít nhất một điểm (c, λ)-ANN được băm vào một trong các thùng mà z được băm vào, nhưng có nhiều hơn 3L điểm ở khoảng cách lớn hơn cλ trong tổng các thùng đó. (Nếu có ít hơn 3L điểm ở khoảng cách lớn hơn cλ trong SLj=1 Wj, thuật toán sẽ trả về một (c, λ)-ANN.) Hãy ký hiệu bởi F sự kiện \"có hơn 3L điểm ở khoảng cách lớn hơn cλ từ z trong tổng các thùng mà z được băm vào\". Trong trường hợp đó, chúng ta có thể áp dụng câu hỏi (a) và chúng ta biết rằng sự kiện F xuất hiện với xác suất nhỏ hơn 1/3.\n",
        "\n",
        "> Lưu ý rằng phủ định của sự kiện \"PLj=1 |T∩Wj|>3L\" chỉ nói rằng có ít hơn 3L điểm không phải ANN trong SLj=1 Wj (hãy ký hiệu bởi m số lượng các điểm không phải ANN trong tổng này). Nó không nói rằng tồn tại điểm thứ m+ 1 trong tổng này (lưu ý rằng sự tồn tại của nó sẽ đảm bảo rằng chúng ta có thể tìm thấy một (c, λ)-ANN). Đó là lý do tại sao câu hỏi (a) không đủ để trả lời câu hỏi (c) trong trường hợp có ít hơn 3L điểm trong SLj=1 Wj, và chúng ta cũng cần câu hỏi (b).\n",
        "\n",
        "Vậy, nếu chúng ta đặt ¯p là xác suất mà điểm được trả về bởi thuật toán không phải là (c, λ)-ANN, thì ta có ![image.png](data:image/png;base64,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) (bằng phương pháp liên hiệp), và vì vậy thuật toán luôn báo cáo một (c, λ)-ANN thực tế với xác suất lớn hơn 1- 1/3 - 1/e. \n",
        "\n",
        "Chú ý: Chúng ta chưa chỉ ra rằng các sự kiện E và F độc lập, vì vậy sẽ không chính xác nếu nói Pr[E∩F] = Pr[E]·Pr[F]. Có thể định nghĩa các sự kiện tương tự E và F và chứng minh rằng chúng độc lập, và **làm như vậy sẽ đưa ra một xác suất độ chính xác lớn hơn so với sử dụng phương pháp liên hiệp.**"
      ],
      "metadata": {
        "id": "EUsZtsNjhjuC"
      }
    },
    {
      "cell_type": "code",
      "source": [
        "from lsh import *\n",
        "import time\n",
        "from tabulate import tabulate\n",
        "import matplotlib.pyplot as plt"
      ],
      "metadata": {
        "id": "wnz__h_hrhnH"
      },
      "execution_count": 83,
      "outputs": []
    },
    {
      "cell_type": "code",
      "execution_count": 85,
      "metadata": {
        "id": "tk8L-tpkKJdz",
        "colab": {
          "base_uri": "https://localhost:8080/"
        },
        "outputId": "0b90b534-88bf-4c6a-c423-dbb1345bc64b"
      },
      "outputs": [
        {
          "output_type": "stream",
          "name": "stdout",
          "text": [
            "Data shape: (59500, 400)\n"
          ]
        }
      ],
      "source": [
        "# Load the dataset\n",
        "A = load_data('/content/drive/MyDrive/patches.csv')\n",
        "#A = load_data('patches.csv')\n",
        "print(\"Data shape: {}\".format(A.shape))\n"
      ]
    },
    {
      "cell_type": "code",
      "source": [
        "from google.colab import drive\n",
        "drive.mount('/content/drive')"
      ],
      "metadata": {
        "colab": {
          "base_uri": "https://localhost:8080/"
        },
        "id": "aZUvdQy1su8M",
        "outputId": "c5b33a67-fd8d-4766-8af9-6a2ef7a8a2ab"
      },
      "execution_count": null,
      "outputs": [
        {
          "output_type": "stream",
          "name": "stdout",
          "text": [
            "Mounted at /content/drive\n"
          ]
        }
      ]
    },
    {
      "cell_type": "code",
      "execution_count": 86,
      "metadata": {
        "id": "EhHq3PkOhRn8",
        "colab": {
          "base_uri": "https://localhost:8080/"
        },
        "outputId": "03137202-d17a-4dac-affc-183f0147475a"
      },
      "outputs": [
        {
          "output_type": "stream",
          "name": "stdout",
          "text": [
            "Query points: [100, 200, 300, 400, 500, 600, 700, 800, 900, 1000]\n"
          ]
        }
      ],
      "source": [
        "# Set parameters\n",
        "L = 10\n",
        "k = 24\n",
        "num_neighbors = 3\n",
        "\n",
        "# Define query points\n",
        "query_indices = range(100, 1100, 100)\n",
        "print(\"Query points: {}\".format([i for i in query_indices]))"
      ]
    },
    {
      "cell_type": "code",
      "source": [
        "# Run LSH setup\n",
        "functions, hashed_A = lsh_setup(A, k=k, L=L)"
      ],
      "metadata": {
        "id": "JqOmHrRr1Z4Y"
      },
      "execution_count": 87,
      "outputs": []
    },
    {
      "cell_type": "code",
      "source": [
        "# Perform LSH and linear search\n",
        "lsh_search_times = [] # Time taken to run LSH search\n",
        "linear_search_times = [] # Time taken to run linear search\n",
        "lsh_neighbors_list = [] # List of LSH neighbors\n",
        "linear_neighbors_list = [] # List of linear neighbors\n",
        "\n",
        "for query_index in query_indices:\n",
        "    # Run LSH search\n",
        "    start_time = time.time()\n",
        "    lsh_neighbors = lsh_search(A, hashed_A, functions, query_index, num_neighbors=num_neighbors)\n",
        "    lsh_neighbors_list.append(lsh_neighbors)\n",
        "    lsh_search_times.append(time.time() - start_time)\n",
        "    \n",
        "    # Run linear search\n",
        "    start_time = time.time()\n",
        "    linear_neighbors = linear_search(A, query_index, num_neighbors=num_neighbors)\n",
        "    linear_neighbors_list.append(linear_neighbors)\n",
        "    linear_search_times.append(time.time() - start_time)"
      ],
      "metadata": {
        "id": "XribLWZP1htT"
      },
      "execution_count": null,
      "outputs": []
    },
    {
      "cell_type": "code",
      "source": [
        "# Print results\n",
        "print(\"LSH Average Search Time: {:.4f} seconds\".format(np.mean(lsh_search_times)))\n",
        "print(\"Linear Average Search Time: {:.4f} seconds\".format(np.mean(linear_search_times)))\n",
        "\n",
        "headers = ['Query Index', 'LSH Neighbors', 'Linear Neighbors']\n",
        "table = []\n",
        "for i in range(len(query_indices)):\n",
        "    table.append([query_indices[i], \n",
        "                  \", \".join(map(str, lsh_neighbors_list[i])), \n",
        "                  \", \".join(map(str, linear_neighbors_list[i]))])\n",
        "\n",
        "print(\"Top 3 Neighbors for Each Query Point:\")\n",
        "print(tabulate(table, headers=headers, tablefmt='fancy_grid'))"
      ],
      "metadata": {
        "id": "I0C-fr7H1kE0"
      },
      "execution_count": null,
      "outputs": []
    },
    {
      "cell_type": "code",
      "source": [
        "# Define list of L values and k values to test\n",
        "case_1 = {\n",
        "    \"L\": [i for i in range(10, 22, 2)], \n",
        "    \"k\": [24]}\n",
        "case_2 = {\n",
        "    \"L\": [10],\n",
        "    \"k\": [i for i in range(16, 26, 2)]}"
      ],
      "metadata": {
        "id": "TUP33Dp-1pVv"
      },
      "execution_count": null,
      "outputs": []
    },
    {
      "cell_type": "code",
      "source": [
        "def errors_evaluation(A, query_indices, num_neighbors, case):\n",
        "    L_list, k_list = case[\"L\"], case[\"k\"]\n",
        "    errors = []\n",
        "    for L in L_list:\n",
        "        for k in k_list:\n",
        "            functions, hashed_A = lsh_setup(A, k=k, L=L)\n",
        "            # Perform LSH search\n",
        "            lsh_neighbors_list = []\n",
        "            for query_index in query_indices:\n",
        "                lsh_neighbors = lsh_search(A, hashed_A, functions, query_index, num_neighbors=num_neighbors)\n",
        "                lsh_neighbors_list.append(lsh_neighbors)\n",
        "            \n",
        "            # Perform linear search\n",
        "            linear_neighbors_list = []\n",
        "            for query_index in query_indices:\n",
        "                linear_neighbors = linear_search(A, query_index, num_neighbors=num_neighbors)\n",
        "                linear_neighbors_list.append(linear_neighbors)\n",
        "            \n",
        "            # Calculate error\n",
        "            error = 0\n",
        "            for i in range(len(query_indices)):\n",
        "                lsh_neighbors = lsh_neighbors_list[i]\n",
        "                linear_neighbors = linear_neighbors_list[i]\n",
        "                query_index = query_indices[i]\n",
        "                error = error_measure(A, query_index, linear_neighbors, lsh_neighbors)\n",
        "                error += error\n",
        "            error = error / len(query_indices)\n",
        "            errors.append((L, k, error))\n",
        "    \n",
        "    return errors"
      ],
      "metadata": {
        "id": "kzp8FwFz1tU3"
      },
      "execution_count": null,
      "outputs": []
    },
    {
      "cell_type": "code",
      "source": [
        "%%time\n",
        "case_1_errors = errors_evaluation(A, query_indices, num_neighbors, case_1)\n",
        "\n",
        "# Print errors for case 1\n",
        "print(\"Case 1 Errors:\")\n",
        "for L, k, error in case_1_errors:\n",
        "    print(\"(L: {}, k: {}) -> Error: {:.4f}\".format(L, k, error))"
      ],
      "metadata": {
        "id": "9Vek86gK1vMo"
      },
      "execution_count": null,
      "outputs": []
    },
    {
      "cell_type": "code",
      "source": [
        "%%time\n",
        "case_2_errors = errors_evaluation(A, query_indices, num_neighbors, case_2)\n",
        "\n",
        "# Print errors for case 2\n",
        "print(\"Case 2 Errors:\")\n",
        "for L, k, error in case_2_errors:\n",
        "    print(\"(L: {}, k: {}) -> Error: {:.4f}\".format(L, k, error))"
      ],
      "metadata": {
        "id": "upqgMu4E1wfw"
      },
      "execution_count": null,
      "outputs": []
    },
    {
      "cell_type": "code",
      "source": [
        "fig, ax = plt.subplots(1, 2, figsize=(15, 6))\n",
        "\n",
        "# Plot case 1\n",
        "L_list_1 = case_1[\"L\"]\n",
        "k_1 = case_1[\"k\"][0]\n",
        "errors_1 = [error for _, _, error in case_1_errors]\n",
        "ax[0].plot(L_list_1, errors_1) \n",
        "\n",
        "# Plot case 2\n",
        "k_list_2 = case_2[\"k\"]\n",
        "L_2 = case_2[\"L\"][0]\n",
        "errors_2 = [error for _, _, error in case_2_errors]\n",
        "ax[1].plot(k_list_2, errors_2)\n",
        "\n",
        "ax[0].set_title(\"Case 1: Error values as a function of L\")\n",
        "ax[0].set_xlabel(\"L\")\n",
        "ax[0].set_ylabel(\"Error\")\n",
        "\n",
        "ax[1].set_title(\"Case 2: Error values as a function of k\")\n",
        "ax[1].set_xlabel(\"k\")\n",
        "ax[1].set_ylabel(\"Error\")\n",
        "\n",
        "plt.show()"
      ],
      "metadata": {
        "id": "Nz3ln8NG1zIW"
      },
      "execution_count": null,
      "outputs": []
    },
    {
      "cell_type": "code",
      "source": [
        "# Define parameters\n",
        "L = 24\n",
        "k = 24\n",
        "num_neighbors = 10\n",
        "query_index = 100\n",
        "\n",
        "# Run setup\n",
        "functions, hashed_A = lsh_setup(A, k=k, L=L)\n",
        "\n",
        "# Run LSH search\n",
        "lsh_neighbors = lsh_search(A, hashed_A, functions, query_index, num_neighbors=num_neighbors)\n",
        "\n",
        "# Run linear search\n",
        "linear_neighbors = linear_search(A, query_index, num_neighbors=num_neighbors)\n"
      ],
      "metadata": {
        "id": "5WmLHpsM13rA"
      },
      "execution_count": null,
      "outputs": []
    },
    {
      "cell_type": "code",
      "source": [
        "# Plot original image\n",
        "plot(A, row_nums=[query_index], base_filename=\"original\", output_path=\"image_output/\")\n"
      ],
      "metadata": {
        "id": "N1dJT5V217Ww"
      },
      "execution_count": null,
      "outputs": []
    },
    {
      "cell_type": "code",
      "source": [
        "# Plot LSH neighbors\n",
        "plot(A, \n",
        "     row_nums=lsh_neighbors, \n",
        "     base_filename=\"lsh_neighbors\", \n",
        "     output_path=\"image_output/lsh/\", \n",
        "     grid_size=(2, 5), title=\"Top 10 LSH Neighbors\")"
      ],
      "metadata": {
        "id": "r6BYbk7aDzuO"
      },
      "execution_count": null,
      "outputs": []
    },
    {
      "cell_type": "code",
      "source": [
        "# Plot linear neighbors\n",
        "plot(A, \n",
        "     row_nums=linear_neighbors, \n",
        "     base_filename=\"linear_neighbors\", \n",
        "     output_path=\"image_output/linear/\", \n",
        "     grid_size=(2, 5), \n",
        "     title=\"Top 10 Linear Neighbors\")"
      ],
      "metadata": {
        "id": "E6j6s1DIDlDA"
      },
      "execution_count": null,
      "outputs": []
    }
  ],
  "metadata": {
    "colab": {
      "provenance": []
    },
    "kernelspec": {
      "display_name": "Python 3",
      "name": "python3"
    },
    "language_info": {
      "name": "python"
    }
  },
  "nbformat": 4,
  "nbformat_minor": 0
}